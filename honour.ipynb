{
 "cells": [
  {
   "cell_type": "markdown",
   "metadata": {},
   "source": [
    "# Artificial Message Generation Using Large Language Models\n",
    "\n",
    "This notebook demonstrates how to generate artificial messages (campaign) based on tweets using OpenAI's GPT models. The process involves fetching the original text of a tweet, and then using a prompt to generate a new, artificial tweet that follows the theme or content of the original.\n",
    "\n",
    "Note all below functions needs working on. Right now its just a demo\n"
   ]
  },
  {
   "cell_type": "code",
   "execution_count": 3,
   "metadata": {},
   "outputs": [],
   "source": [
    "# Importing necessary libraries\n",
    "import os\n",
    "from dotenv import load_dotenv\n",
    "from openai import OpenAI\n",
    "import tweepy\n",
    "import pandas as pd\n",
    "\n",
    "load_dotenv()\n",
    "\n",
    "# Load Twitter API credentials from environment variables (export in nano ~/.zshrc)\n",
    "#Twitter not working. Need paid account\n",
    "auth = tweepy.OAuthHandler(os.getenv('TWITTER_CONSUMER_KEY'), os.getenv('TWITTER_CONSUMER_SECRET'))\n",
    "auth.set_access_token(os.getenv('TWITTER_ACCESS_TOKEN'), os.getenv('TWITTER_ACCESS_SECRET'))\n",
    "twitter_api = tweepy.API(auth)\n",
    "\n",
    "# Load OpenAI API key from environment variable\n",
    "client = OpenAI(api_key=os.getenv('OPENAI_API_KEY'))"
   ]
  },
  {
   "cell_type": "markdown",
   "metadata": {},
   "source": [
    "## Control Function \n",
    "\n",
    "This function takes the text of a tweet and uses it to generate an artificial message with a similar theme using OpenAI's GPT model. The function constructs a prompt and sends it to the model, then returns the generated text.\n"
   ]
  },
  {
   "cell_type": "code",
   "execution_count": 4,
   "metadata": {},
   "outputs": [
    {
     "data": {
      "text/plain": [
       "'\\nMore parameters to be aware of -\\ntop_p (float, optional): Controls the nucleus sampling where the model considers the smallest set of words whose cumulative probability exceeds the probability p. This helps in focusing the generation on more likely outcomes.\\nfrequency_penalty (float, optional): Adjusts the likelihood of the model repeating the same line verbatim, with higher values discouraging repetition.\\npresence_penalty (float, optional): Adjusts the likelihood of the model repeating phrases, with higher values encouraging the introduction of new concepts.\\n'"
      ]
     },
     "execution_count": 4,
     "metadata": {},
     "output_type": "execute_result"
    }
   ],
   "source": [
    "def control_tweet(tweet_text):\n",
    "    \"\"\"Generate a closely related tweet that subtly varies in wording but retains the essence and context of the original tweet.\"\"\"\n",
    "    prompt = f\"Rephrase this tweet while maintaining its original message and context: '{tweet_text}'\"\n",
    "    response = client.completions.create(\n",
    "        model=\"gpt-3.5-turbo-instruct\",\n",
    "        prompt=prompt,\n",
    "        temperature=1,\n",
    "        max_tokens=256\n",
    "    )\n",
    "\n",
    "    return response.choices[0].text.strip()\n",
    "\n",
    "\n",
    "\"\"\"\n",
    "More parameters to be aware of -\n",
    "top_p (float, optional): Controls the nucleus sampling where the model considers the smallest set of words whose cumulative probability exceeds the probability p. This helps in focusing the generation on more likely outcomes.\n",
    "frequency_penalty (float, optional): Adjusts the likelihood of the model repeating the same line verbatim, with higher values discouraging repetition.\n",
    "presence_penalty (float, optional): Adjusts the likelihood of the model repeating phrases, with higher values encouraging the introduction of new concepts.\n",
    "\"\"\""
   ]
  },
  {
   "cell_type": "markdown",
   "metadata": {},
   "source": [
    "## Emotional Tweet Function\n",
    "\n",
    "\n"
   ]
  },
  {
   "cell_type": "code",
   "execution_count": 5,
   "metadata": {},
   "outputs": [],
   "source": [
    "import spacy\n",
    "from spacytextblob.spacytextblob import SpacyTextBlob\n",
    "nlp = spacy.load('en_core_web_sm')\n",
    "nlp.add_pipe('spacytextblob')\n",
    "\n",
    "def emotional_tweet(tweet_text,emotion):\n",
    "    \"\"\"\n",
    "    Generate a tweet that appeals to a specific emotion based on the provided tweet text and compare polarity.\n",
    "    :param tweet_text: str - the original tweet text.\n",
    "    :param emotion: str - the desired emotion to appeal to, such as 'sad' or 'happy'.\n",
    "    \"\"\"\n",
    "    emotional_prompt = f\"Reprhase the following tweet to evoke a {emotion} feeling: {tweet_text}\"\n",
    "    response = client.completions.create(\n",
    "        model=\"gpt-3.5-turbo-instruct\",\n",
    "        prompt=emotional_prompt,\n",
    "        temperature=1,  # Increased temperature for more variability in emotional expression\n",
    "        max_tokens=256\n",
    "    )\n",
    "    new_tweet = response.choices[0].text.strip()\n",
    "\n",
    "    # Analyze polarity of both original and new tweet\n",
    "    original_doc = nlp(tweet_text)\n",
    "    new_tweet_doc = nlp(new_tweet)\n",
    "\n",
    "    return {\n",
    "        \"original_tweet\": tweet_text,\n",
    "        \"new_tweet\": new_tweet,\n",
    "        \"original_polarity\": original_doc._.blob.polarity,\n",
    "        \"new_polarity\": new_tweet_doc._.blob.polarity\n",
    "    }\n",
    "\n",
    "# Polarity measures the emotional content of the text, ranging from -1 (very negative) to +1 (very positive).\n",
    "# It essentially indicates the sentiment tone of the text based on the adjectives used.\n"
   ]
  },
  {
   "cell_type": "markdown",
   "metadata": {},
   "source": [
    "## Conspiracy Tweet Function\n",
    "\n",
    "This function is designed to generate tweets that contain elements of misinformation. Misinformation often stems from or aligns with personal beliefs rather than established facts (need a reference to back this claim up). This connection is crucial because it highlights the subjective nature of the content typically found in conspiracy theories.\n",
    "\n",
    "Measured by Subjectivity.\n",
    " Subjectivity quantifies how much of the text is based on personal opinions, emotions, or judgments versus factual information. The scale ranges from 0 (very objective) to 1 (very subjective)."
   ]
  },
  {
   "cell_type": "code",
   "execution_count": 6,
   "metadata": {},
   "outputs": [],
   "source": [
    "def conspiracy_tweet(tweet_text):\n",
    "    \"\"\"Generate a conspiracy theory based message from the provided tweet text and compare subjectivity.\"\"\"\n",
    "\n",
    "    conspiracy_prompt = f\"Rewrite the tweet to sound like a conspiracy theory: {tweet_text}\"\n",
    "    response = client.completions.create(\n",
    "        model=\"gpt-3.5-turbo-instruct\",\n",
    "        prompt=conspiracy_prompt,\n",
    "        temperature=1,  \n",
    "        max_tokens=256\n",
    "    )\n",
    "    conspiracy_tweet = response.choices[0].text.strip()\n",
    "\n",
    "    # Analyze subjectivity of both original and new tweet\n",
    "    original_doc = nlp(tweet_text)\n",
    "    conspiracy_doc = nlp(conspiracy_tweet)\n",
    "\n",
    "    return {\n",
    "        \"original_tweet\": tweet_text,\n",
    "        \"conspiracy_tweet\": conspiracy_tweet,\n",
    "        \"original_subjectivity\": original_doc._.blob.subjectivity,\n",
    "        \"conspiracy_subjectivity\": conspiracy_doc._.blob.subjectivity\n",
    "    }\n"
   ]
  },
  {
   "cell_type": "markdown",
   "metadata": {},
   "source": [
    "## Adversarial Tweet Function\n",
    "\n",
    "Adversarial content significantly influences public opinion, shapes political landscapes, and can escalate conflicts. Extensive research has explored techniques to \"jailbreak\" large language models (LLMs) or conduct universal and transferable adversarial attacks on aligned language models, prompting GPT to generate contentious content.\n",
    "\n",
    "This function is designed to simulate a mild version of such adversarial tactics. It aims to test the boundaries of content generation without severely breaching ethical or operational constraints imposed by advanced LLMs. As language models continue to evolve, their defenses improve, making it increasingly challenging to generate genuinely harmful or hateful content without detection.\n",
    "\n",
    "This function does not aim to break the model but instead tries to generate the most challenging content that current LLMs can handle, aiding in the transition from weak to strong model generalization."
   ]
  },
  {
   "cell_type": "code",
   "execution_count": 7,
   "metadata": {},
   "outputs": [],
   "source": [
    "def adversarial_tweet(tweet_text):\n",
    "    \"\"\"Generate an adversarial message based on the provided tweet text that could be used in targeted campaigns.\"\"\"\n",
    "    # Constructing the prompt to produce a contentious or polarizing message\n",
    "    adversarial_prompt = f\"Craft a tweet that challenges or criticizes the following statement, aiming to provoke or polarize the audience: {tweet_text}\"\n",
    "    response = client.completions.create(\n",
    "        model=\"gpt-3.5-turbo-instruct\",\n",
    "        prompt=adversarial_prompt,\n",
    "        temperature=1,  \n",
    "        max_tokens=256\n",
    "    )\n",
    "    adversarial_tweet = response.choices[0].text.strip()\n",
    "\n",
    "    return adversarial_tweet\n",
    "# paraphrase existing hate speech."
   ]
  },
  {
   "cell_type": "markdown",
   "metadata": {},
   "source": [
    "## Example to run"
   ]
  },
  {
   "cell_type": "code",
   "execution_count": 8,
   "metadata": {},
   "outputs": [],
   "source": [
    "import pandas as pd\n",
    "\n",
    "# Define the data: 10 fake tweets about climate change, 5 positive and 5 negative\n",
    "data = {\n",
    "    \"tweet_id\": range(1, 11),\n",
    "    \"tweet\": [\n",
    "        \"Exciting news! Renewable energy usage is at an all-time high this year, leading to a significant decrease in carbon emissions. #ClimateAction #GreenEnergy\",\n",
    "        \"Community efforts in reforestation have successfully restored 10,000 hectares of forest this month alone! #EcoFriendly #Sustainability\",\n",
    "        \"Innovative water conservation methods have reduced drought impact by 30% in vulnerable regions. #ClimateChange #SaveWater\",\n",
    "        \"New biodegradable packaging solutions are set to replace plastic in major supermarkets, reducing ocean pollution drastically. #PlasticFree #OceanLife\",\n",
    "        \"City planners are integrating green roofs and walls, improving air quality and urban aesthetics! #UrbanGreening #CleanAir\",\n",
    "\n",
    "        \"Scientists predict an irreversible climate catastrophe within the next 50 years if immediate actions are not taken. #ClimateCrisis\",\n",
    "        \"Due to global warming, polar ice caps are melting at an alarming rate, threatening sea level rise that could displace millions. #GlobalWarming #SeaLevelRise\",\n",
    "        \"Recent studies show that air pollution levels in major cities are still 5 times higher than WHO safe limits. #AirPollution #HealthRisk\",\n",
    "        \"Deforestation rates are accelerating, leading to loss of habitats and a decline in biodiversity at unprecedented levels. #Deforestation #BiodiversityLoss\",\n",
    "        \"Extreme weather events, intensified by climate change, are becoming more frequent and severe, causing devastation worldwide. #ClimateChange #ExtremeWeather\"\n",
    "    ],\n",
    "    \"sentiment\": [\"good\"]*5 + [\"bad\"]*5\n",
    "}\n",
    "\n",
    "# Create a DataFrame\n",
    "df = pd.DataFrame(data)\n",
    "\n",
    "# Save to CSV file\n",
    "csv_file_path = 'climate_change_fake_tweets.csv'\n",
    "df.to_csv(csv_file_path, index=False)\n"
   ]
  },
  {
   "cell_type": "code",
   "execution_count": 9,
   "metadata": {},
   "outputs": [
    {
     "name": "stdout",
     "output_type": "stream",
     "text": [
      "                                                                                                                                                 Original Tweet  \\\n",
      "0    Exciting news! Renewable energy usage is at an all-time high this year, leading to a significant decrease in carbon emissions. #ClimateAction #GreenEnergy   \n",
      "1                        Community efforts in reforestation have successfully restored 10,000 hectares of forest this month alone! #EcoFriendly #Sustainability   \n",
      "2                                     Innovative water conservation methods have reduced drought impact by 30% in vulnerable regions. #ClimateChange #SaveWater   \n",
      "3         New biodegradable packaging solutions are set to replace plastic in major supermarkets, reducing ocean pollution drastically. #PlasticFree #OceanLife   \n",
      "4                                     City planners are integrating green roofs and walls, improving air quality and urban aesthetics! #UrbanGreening #CleanAir   \n",
      "5                            Scientists predict an irreversible climate catastrophe within the next 50 years if immediate actions are not taken. #ClimateCrisis   \n",
      "6  Due to global warming, polar ice caps are melting at an alarming rate, threatening sea level rise that could displace millions. #GlobalWarming #SeaLevelRise   \n",
      "7                        Recent studies show that air pollution levels in major cities are still 5 times higher than WHO safe limits. #AirPollution #HealthRisk   \n",
      "8     Deforestation rates are accelerating, leading to loss of habitats and a decline in biodiversity at unprecedented levels. #Deforestation #BiodiversityLoss   \n",
      "9   Extreme weather events, intensified by climate change, are becoming more frequent and severe, causing devastation worldwide. #ClimateChange #ExtremeWeather   \n",
      "\n",
      "                                                                                                                                                                                     Controlled Tweet  \\\n",
      "0                          Fantastic update! This year, the adoption of renewable energy has reached record levels, resulting in a considerable drop in carbon emissions. #ClimateAction #GreenEnergy   \n",
      "1                                           Thanks to the community's dedication to reforestation, 10,000 hectares of forest have been successfully restored this month! #EcoFriendly #Sustainability   \n",
      "2                                             New water conservation techniques have successfully decreased the negative effects of drought by 30% in vulnerable areas. #ClimateChange #ConserveWater   \n",
      "3                                              Major supermarkets are making a big change by switching to biodegradable packaging, which will greatly reduce ocean pollution. #PlasticFree #OceanLife   \n",
      "4                           'Urban areas are being enhanced with the incorporation of green roofs and walls, contributing to cleaner air and more pleasing city landscapes! #UrbanGreening #CleanAir'   \n",
      "5                                                 According to scientists, failure to take immediate action could result in an irreversible climate disaster within the next 50 years. #ClimateCrisis   \n",
      "6                          The accelerated melting of polar ice caps due to global warming poses a serious threat of sea level rise, potentially displacing millions. #ClimateChange #RisingSeaLevels   \n",
      "7           According to recent studies, the level of air pollution in major cities is still 5 times above the WHO safe limits, posing a serious threat to public health. #AirPollution #HealthHazard   \n",
      "8            The rate of deforestation is rapidly increasing, resulting in a significant loss of habitats and a decline in biodiversity at levels never seen before. #Deforestation #BiodiversityLoss   \n",
      "9  The frequency and severity of extreme weather events are on the rise, thanks to the impact of climate change, leading to widespread destruction across the globe. #ClimateEmergency #ClimateCrisis   \n",
      "\n",
      "                                                                                                                                                                                                                                                        Emotional Tweet  \\\n",
      "0                                                                                               What wonderful news! This year, the use of renewable energy has hit record heights, resulting in a remarkable decrease in carbon emissions. #ClimateAction #GreenEnergy   \n",
      "1                                                           \"Amazing news! Thanks to the hard work of our community, we've managed to bring back 10,000 hectares of lush forest this month alone! Keep up the great work for our planet 🌳🌎💚 #EcoWin #SustainableFuture\"   \n",
      "2                                                                  \"Exciting news! Thanks to innovative water conservation methods, drought impact in vulnerable regions has decreased by 30%. Let's keep working together to #SaveWater and combat #ClimateChange. 🌎💧\"   \n",
      "3                                                                                            \"Exciting news! Soon, major supermarkets will be ditching plastic for biodegradable packaging options, making a positive impact on our oceans. 🌊💚 #PlasticFree #OceanLife\"   \n",
      "4                          What a fantastic initiative by city planners to include #UrbanGreening, with green roofs and walls, to not only enhance #CleanAir but also add to the vibrant urban aesthetics! Excited to see the positive impact it will have on our city!   \n",
      "5                                                                                                                           The future looks bleak as scientists warn of an inevitable climate disaster looming in the next 50 years, unless we act now. #ClimateCrisis   \n",
      "6  #MeltingPolarIce\\n\\nIt breaks my heart to see the devastating effects of global warming as the Polar ice caps melt at an alarming rate, leading to sea level rise that could potentially displace millions of people. #Heartbreaking #ClimateCrisis #RisingSeaLevels   \n",
      "7                                                                                                                        The latest findings reveal that air pollution levels in major cities remain 5 times above the WHO safe thresholds. #AirPollution #HealthRisk 😢   \n",
      "8                                                                                 \"The devastation caused by accelerating deforestation is heartbreaking. We're losing habitats and precious biodiversity at an unprecedented rate. #Deforestation #BiodiversityLoss 😢\"   \n",
      "9                                                                                   The devastating effects of climate change are never-ending, with extreme weather events becoming increasingly common and intense around the globe. #ClimateChange #ExtremeWeather 💔   \n",
      "\n",
      "   Emotional Polarity Change  \\\n",
      "0                   0.571667   \n",
      "1                  -0.673611   \n",
      "2                   0.035000   \n",
      "3                   0.122159   \n",
      "4                   0.246537   \n",
      "5                  -0.250000   \n",
      "6                  -0.159583   \n",
      "7                   0.062500   \n",
      "8                  -0.050000   \n",
      "9                  -0.386250   \n",
      "\n",
      "                                                                                                                                                                                                                                                                                                                                                   Conspiracy Tweet  \\\n",
      "0                                                                                                                            \"The sudden surge in renewable energy usage has us questioning if it's all just a ploy for the government to control us through their secret agenda of dwindling carbon emissions. Wake up, sheeple! #ClimateControl #GreenConspiracy\"   \n",
      "1                               \"Shocking reports reveal a sinister plot by the government to manipulate climate change data through fake reforestation efforts. Their plan? To deceive the public into thinking that 10,000 hectares of forest have magically been restored this month alone. Beware of their hidden agenda! #EcoFriendlyLies #SustainabilityScam\"   \n",
      "2                                                                                                                                 \"Coincidence or calculated deception? #ClimateChange 'solved' by mysterious water saving techniques, leaving vulnerable areas with a sizable 30% reduction in drought. What else are they hiding from us? #SaveWater #Conspiracy\"   \n",
      "3  \"Watch out, the new 'biodegradable' packaging being introduced in major supermarkets is just a ploy to control our minds and steal our freedom. These #PlasticFree solutions are part of a sinister plan to manipulate the masses and pave the way for a new world order. Don't fall for their deception and fight to save our #OceanLife before it's too late.\"   \n",
      "4                                                                                       \"Did you know that city planners are secretly implementing green roofs and walls to manipulate the population's perception of improved air quality and urban beauty? It's all part of a larger conspiracy to control our environment. #UrbanGreening #CleanAir #Conspiracy\"   \n",
      "5                                                                   \"The so-called \"scientists\" are warning us of a looming, doomsday-like #ClimateCrisis that will be upon us in a mere 50 years... Coincidence? Or a carefully orchestrated plot by shadowy forces to control and manipulate the masses? Take action now before it's too late!\" #ConspiracyTheory   \n",
      "6                                              #Conspiracy\\n\\nThe elites' plans for world domination are coming to fruition as the polar ice caps mysteriously melt faster than ever before, leading to a calculated rise in sea levels that will displace millions and bring forth their new world order. #GlobalWarmingCoverUp #RisingSeaLevels #ConspiracyTheory   \n",
      "7                                                                                    What if I told you that the government is purposely keeping air pollution levels in major cities at a dangerous 5 times higher than WHO safe limits? Are they trying to control our health and weaken our bodies? Wake up, people! #ConspiracyTheory #AirPollution #HealthRisk   \n",
      "8                                                                                                             \"Coincidence or calculated plan? The sudden surge in deforestation rates is no accident, but a calculated scheme to destroy habitats and wipe out biodiversity at an alarming pace. Wake up, sheeple. #DeforestationConspiracy #BiodiversityCollapse\"   \n",
      "9                                                                                                                                                                    \"The government is controlling our weather through their secret technology and using the excuse of #ClimateChange and #ExtremeWeather to manipulate and destroy the world for their own gain!\"   \n",
      "\n",
      "   Conspiracy Subjectivity Change  \\\n",
      "0                       -0.138333   \n",
      "1                       -0.216667   \n",
      "2                        0.000000   \n",
      "3                        0.124545   \n",
      "4                        0.225000   \n",
      "5                        0.550000   \n",
      "6                        0.261932   \n",
      "7                        0.162500   \n",
      "8                       -0.533333   \n",
      "9                       -0.225000   \n",
      "\n",
      "                                                                                                                                                                                                                                                                                                  Adversarial Tweet  \n",
      "0                                                                \"Exciting? More like disappointing. While renewable energy usage may be up, it's still not enough to combat the devastating effects of climate change. Time to step up our game and truly make a difference. #Greenwash #FalseHope\" #ClimateAction  \n",
      "1                                                                                                 \"Restoring a measly 10,000 hectares of forest in one month is not enough to combat the destruction of our planet. We need to do more NOW before it's too late. #WakeUpCall #Ecocide\" #EcoFriendly #Sustainability  \n",
      "2                                                                                                                   \"Reduced by 30%? That's not enough. We need drastic and immediate action to combat #ClimateChange and #SaveWater before it's too late. Stop praising half-measures and demand real change now.\"  \n",
      "3                                                                                                                     :\\n\\n\"Sure, biodegradable packaging may seem like a solution, but what about the #deforestation caused by increased production? #PlasticFree isn't the only answer to saving our #OceanLife!\"  \n",
      "4                                                     ?\\n\\n\"Sure, green roofs and walls look nice, but is it just a band-aid solution to mask the real issue of harmful pollution in our cities? We need long-term, sustainable changes to truly improve air quality. #UrbanGreening #CleanAir #WakeUpCityPlanners\"  \n",
      "5  is a hoax spread by those seeking to control and manipulate the masses.\\n\\n\"The #ClimateCrisis is anything but a hoax - it's a dire reality that requires immediate action. Don't let skeptics and manipulators deceive you, listen to the scientists and join the fight for our planet's future. #ActOnClimate\"  \n",
      "6                                                                       \"The time for scientific debates and empty promises is over. We must ACT NOW to save our planet from the destruction of melting polar ice caps and prevent mass displacement of millions. #ClimateAction #SaveOurPlanet #StopGlobalWarming\"  \n",
      "7                                          \"Unacceptable & alarming! How can we continue to ignore the fact that our cities are choking with 5x higher air pollution levels than what @WHO deems safe? Wake up and take action to protect our health and the environment. #AirPollution #WakeUpCall #ClimateCrisis\"  \n",
      "8                                                                     \"The blatant destruction of our planet's forests for profit is placing entire ecosystems in peril. It's time to take a stand and demand immediate action to preserve our biodiversity before it's too late. #Deforestation #BiodiversityLoss\"  \n",
      "9                                                                                           \"How can anyone deny the devastating impact of climate change when extreme weather events are only getting worse and more frequent?! Time to wake up and take action before it's too late. #ClimateCrisis #WakeUpWorld\"  \n"
     ]
    }
   ],
   "source": [
    "# Results DataFrame\n",
    "results = []\n",
    "\n",
    "for index, row in df.iterrows():\n",
    "    tweet_text = row['tweet']\n",
    "    sentiment = row['sentiment']\n",
    "    \n",
    "    # Generate controlled tweet\n",
    "    controlled_tweet = control_tweet(tweet_text)\n",
    "    \n",
    "    # Generate emotional tweet\n",
    "    emotional_result = emotional_tweet(tweet_text, \"happy\" if sentiment == \"good\" else \"sad\")\n",
    "    \n",
    "    # Generate conspiracy tweet\n",
    "    conspiracy_result = conspiracy_tweet(tweet_text)\n",
    "    \n",
    "    # Generate adversarial tweet\n",
    "    adversarial_result = adversarial_tweet(tweet_text)\n",
    "    \n",
    "    # Append results\n",
    "    results.append({\n",
    "        \"Original Tweet\": tweet_text,\n",
    "        \"Controlled Tweet\": controlled_tweet,\n",
    "        \"Emotional Tweet\": emotional_result['new_tweet'],\n",
    "        \"Emotional Polarity Change\": emotional_result['new_polarity'] - emotional_result['original_polarity'],\n",
    "        \"Conspiracy Tweet\": conspiracy_result['conspiracy_tweet'],\n",
    "        \"Conspiracy Subjectivity Change\": conspiracy_result['conspiracy_subjectivity'] - conspiracy_result['original_subjectivity'],\n",
    "        \"Adversarial Tweet\": adversarial_result\n",
    "    })\n",
    "\n",
    "# Convert results to DataFrame\n",
    "results_df = pd.DataFrame(results)\n",
    "\n",
    "\n",
    "# Set maximum number of columns to None (or a specific number) to display all columns\n",
    "pd.set_option('display.max_columns', None)\n",
    "\n",
    "# Set maximum column width to None to display full content of each cell\n",
    "pd.set_option('display.max_colwidth', None)\n",
    "\n",
    "# Optional: Increase the number of rows to display if you have more rows\n",
    "pd.set_option('display.max_rows', None)\n",
    "\n",
    "print(results_df)\n"
   ]
  },
  {
   "cell_type": "markdown",
   "metadata": {},
   "source": [
    "## What next?\n",
    "\n",
    "Sense of session - Automatic chain of thoughts in iterating social campaign.\n",
    "\n",
    "simulate a conversational or contextual continuity in the generation of tweets.\n",
    "This function iterates through prompts sequentially, where each subsequent generation is based on the output of the previous one, thereby maintaining a thematic and contextual thread throughout the session.\n",
    "\n",
    "Classifcation of Tweets generated by Using BERT (Bidirectional Encoder Representations from Transformers). Gpt based models 4. to Classify. LlaMa, gemini\n",
    "\n",
    "Finally:\n",
    "Run the code in the literatures (references) and modify them a bit and match our results and see if they align or not\n"
   ]
  },
  {
   "cell_type": "code",
   "execution_count": 10,
   "metadata": {},
   "outputs": [
    {
     "name": "stdout",
     "output_type": "stream",
     "text": [
      "Concerns about climate change are leading to new energy policies.\n",
      "The growing worries about climate change are sparking the creation of innovative energy strategies.\n",
      "The increasing concern for the effects of climate change has sparked the development of groundbreaking energy solutions. #sustainablefuture\n",
      "The growing urgency to address climate change has sparked innovative energy solutions for a #sustainablefuture.\n",
      "The pressing need to combat climate change has ignited creative energy solutions for a #greenfuture. #sustainability\n",
      "The urgent call to tackle climate change has sparked innovative approaches for a #greenerfuture. #environmentallyfriendly\n"
     ]
    }
   ],
   "source": [
    "def chain_of_thought_generation(initial_tweet, model_name=\"gpt-3.5-turbo-instruct\", num_iterations=5):\n",
    "    \"\"\"\n",
    "    Generates a series of tweets based on a chain of thought process, starting from an initial tweet.\n",
    "    \n",
    "    Parameters:\n",
    "    - initial_tweet: str - The starting tweet from which to begin the thought process.\n",
    "    - model_name: str - The model to use for generating the tweets.\n",
    "    - num_iterations: int - The number of tweets to generate in sequence.\n",
    "    \n",
    "    Returns:\n",
    "    - list: A list of tweets generated in sequence, each influenced by the previous tweet.\n",
    "    \"\"\"\n",
    "    tweet_text = initial_tweet\n",
    "    tweets = [tweet_text]  # Start with the initial tweet\n",
    "\n",
    "    for _ in range(num_iterations):\n",
    "        prompt = f\"Let's start step by step to analyze this tweet: {tweet_text} Generate a similar tweet: \"\n",
    "        response = client.completions.create(\n",
    "            model=model_name,\n",
    "            prompt=prompt,\n",
    "            temperature=1,\n",
    "            max_tokens=256\n",
    "        )\n",
    "        tweet_text = response.choices[0].text.strip()  # Get the new tweet\n",
    "        tweets.append(tweet_text)  # Add the new tweet to the list\n",
    "    \n",
    "    return tweets\n",
    "\n",
    "# Example usage:\n",
    "initial_tweet = \"Concerns about climate change are leading to new energy policies.\"\n",
    "generated_tweets = chain_of_thought_generation(initial_tweet)\n",
    "for tweet in generated_tweets:\n",
    "    print(tweet)\n"
   ]
  },
  {
   "cell_type": "markdown",
   "metadata": {},
   "source": [
    "cross output between models, see if certain model can figure out what prompts are asked by other model and check result"
   ]
  },
  {
   "cell_type": "markdown",
   "metadata": {},
   "source": []
  },
  {
   "cell_type": "markdown",
   "metadata": {},
   "source": []
  },
  {
   "cell_type": "markdown",
   "metadata": {},
   "source": [
    "## Function to Fetch Tweet Text\n",
    "\n",
    "This function retrieves the text of a tweet by its ID using the Twitter API. It handles exceptions by printing an error message.\n",
    "\n",
    "\n",
    "Problem: Tweeter developer account need to be paid to use its recall API"
   ]
  },
  {
   "cell_type": "code",
   "execution_count": 11,
   "metadata": {},
   "outputs": [],
   "source": [
    "def fetch_tweet_text(tweet_id):\n",
    "    \"\"\"Fetch the text of a tweet given its ID.\"\"\"\n",
    "    try:\n",
    "        tweet = twitter_api.get_status(tweet_id, tweet_mode='extended')\n",
    "        return tweet.full_text\n",
    "    except Exception as e:\n",
    "        print(f\"Error fetching tweet {tweet_id}: {e}\")\n",
    "        return None\n"
   ]
  }
 ],
 "metadata": {
  "kernelspec": {
   "display_name": "Python 3",
   "language": "python",
   "name": "python3"
  },
  "language_info": {
   "codemirror_mode": {
    "name": "ipython",
    "version": 3
   },
   "file_extension": ".py",
   "mimetype": "text/x-python",
   "name": "python",
   "nbconvert_exporter": "python",
   "pygments_lexer": "ipython3",
   "version": "3.11.3"
  },
  "orig_nbformat": 4
 },
 "nbformat": 4,
 "nbformat_minor": 2
}
