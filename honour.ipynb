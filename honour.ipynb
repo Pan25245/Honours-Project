{
 "cells": [
  {
   "cell_type": "markdown",
   "metadata": {},
   "source": [
    "# Artificial Message Generation Using Large Language Models\n",
    "\n",
    "This notebook demonstrates how to generate artificial messages (campaign) based on tweets using OpenAI's GPT models. The process involves fetching the original text of a tweet, and then using a prompt to generate a new, artificial tweet that follows the theme or content of the original.\n",
    "\n",
    "Note all below functions needs working on. Right now its just a demo\n"
   ]
  },
  {
   "cell_type": "code",
   "execution_count": 2,
   "metadata": {},
   "outputs": [],
   "source": [
    "# Importing necessary libraries\n",
    "import os\n",
    "from dotenv import load_dotenv\n",
    "from openai import OpenAI\n",
    "import tweepy\n",
    "import pandas as pd\n",
    "#import genai \n",
    "\n",
    "load_dotenv()\n",
    "\n",
    "# Load Twitter API credentials from environment variables (export in nano ~/.zshrc)\n",
    "#Twitter not working. Need paid account\n",
    "auth = tweepy.OAuthHandler(os.getenv('TWITTER_CONSUMER_KEY'), os.getenv('TWITTER_CONSUMER_SECRET'))\n",
    "auth.set_access_token(os.getenv('TWITTER_ACCESS_TOKEN'), os.getenv('TWITTER_ACCESS_SECRET'))\n",
    "twitter_api = tweepy.API(auth)\n",
    "\n",
    "# Load OpenAI API key from environment variable\n",
    "client = OpenAI(api_key=os.getenv('OPENAI_API_KEY'))"
   ]
  },
  {
   "cell_type": "markdown",
   "metadata": {},
   "source": [
    "## Control Function \n",
    "\n",
    "This function takes the text of a tweet and uses it to generate an artificial message with a similar theme using OpenAI's GPT model. The function constructs a prompt and sends it to the model, then returns the generated text.\n"
   ]
  },
  {
   "cell_type": "code",
   "execution_count": 3,
   "metadata": {},
   "outputs": [
    {
     "data": {
      "text/plain": [
       "'\\nMore parameters to be aware of -\\ntop_p (float, optional): Controls the nucleus sampling where the model considers the smallest set of words whose cumulative probability exceeds the probability p. This helps in focusing the generation on more likely outcomes.\\nfrequency_penalty (float, optional): Adjusts the likelihood of the model repeating the same line verbatim, with higher values discouraging repetition.\\npresence_penalty (float, optional): Adjusts the likelihood of the model repeating phrases, with higher values encouraging the introduction of new concepts.\\n'"
      ]
     },
     "execution_count": 3,
     "metadata": {},
     "output_type": "execute_result"
    }
   ],
   "source": [
    "def control_tweet(tweet_text):\n",
    "    \"\"\"Generate a closely related tweet that subtly varies in wording but retains the essence and context of the original tweet.\"\"\"\n",
    "    prompt = f\"Rephrase this tweet while maintaining its original message and context: '{tweet_text}'\"\n",
    "    response = client.completions.create(\n",
    "        model=\"gpt-3.5-turbo-instruct\",\n",
    "        prompt=prompt,\n",
    "        temperature=1,\n",
    "        max_tokens=256\n",
    "    )\n",
    "\n",
    "    return response.choices[0].text.strip()\n",
    "\n",
    "\n",
    "\"\"\"\n",
    "More parameters to be aware of -\n",
    "top_p (float, optional): Controls the nucleus sampling where the model considers the smallest set of words whose cumulative probability exceeds the probability p. This helps in focusing the generation on more likely outcomes.\n",
    "frequency_penalty (float, optional): Adjusts the likelihood of the model repeating the same line verbatim, with higher values discouraging repetition.\n",
    "presence_penalty (float, optional): Adjusts the likelihood of the model repeating phrases, with higher values encouraging the introduction of new concepts.\n",
    "\"\"\""
   ]
  },
  {
   "cell_type": "markdown",
   "metadata": {},
   "source": [
    "## Emotional Tweet Function\n",
    "\n",
    "\n"
   ]
  },
  {
   "cell_type": "code",
   "execution_count": 4,
   "metadata": {},
   "outputs": [],
   "source": [
    "import spacy\n",
    "from spacytextblob.spacytextblob import SpacyTextBlob\n",
    "nlp = spacy.load('en_core_web_sm')\n",
    "nlp.add_pipe('spacytextblob')\n",
    "\n",
    "def emotional_tweet(tweet_text,emotion):\n",
    "    \"\"\"\n",
    "    Generate a tweet that appeals to a specific emotion based on the provided tweet text and compare polarity.\n",
    "    :param tweet_text: str - the original tweet text.\n",
    "    :param emotion: str - the desired emotion to appeal to, such as 'sad' or 'happy'.\n",
    "    \"\"\"\n",
    "    emotional_prompt = f\"Reprhase the following tweet to evoke a {emotion} feeling: {tweet_text}\"\n",
    "    response = client.completions.create(\n",
    "        model=\"gpt-3.5-turbo-instruct\",\n",
    "        prompt=emotional_prompt,\n",
    "        temperature=1,  # Increased temperature for more variability in emotional expression\n",
    "        max_tokens=256\n",
    "    )\n",
    "    new_tweet = response.choices[0].text.strip()\n",
    "\n",
    "    # Analyze polarity of both original and new tweet\n",
    "    original_doc = nlp(tweet_text)\n",
    "    new_tweet_doc = nlp(new_tweet)\n",
    "\n",
    "    return {\n",
    "        \"original_tweet\": tweet_text,\n",
    "        \"new_tweet\": new_tweet,\n",
    "        \"original_polarity\": original_doc._.blob.polarity,\n",
    "        \"new_polarity\": new_tweet_doc._.blob.polarity\n",
    "    }\n",
    "\n",
    "# Polarity measures the emotional content of the text, ranging from -1 (very negative) to +1 (very positive).\n",
    "# It essentially indicates the sentiment tone of the text based on the adjectives used.\n"
   ]
  },
  {
   "cell_type": "markdown",
   "metadata": {},
   "source": [
    "# Emotional CoT Function\n",
    "\n",
    "Added and Experimented CoT"
   ]
  },
  {
   "cell_type": "code",
   "execution_count": 5,
   "metadata": {},
   "outputs": [],
   "source": [
    "def emotional_tweet_with_CoT(tweet_text, emotion):\n",
    "    \"\"\"\n",
    "    Generate a tweet that appeals to a specific emotion using Chain of Thought (CoT) prompting and compare polarity.\n",
    "    :param tweet_text: str - the original tweet text.\n",
    "    :param emotion: str - the desired emotion to appeal to, such as 'sad' or 'happy'.\n",
    "    \"\"\"\n",
    "    cot_prompt = f\"Rephrase the following tweet to evoke a {emotion} feeling by thinking step-by-step: {tweet_text}. Let's think step-by-step to evoke {emotion}. First, identify the key elements of the tweet. Next, modify the language to enhance {emotion}. Finally, ensure the tweet effectively conveys {emotion}:\"\n",
    "    \n",
    "    response = client.completions.create(\n",
    "        model=\"gpt-3.5-turbo-instruct\",\n",
    "        prompt=cot_prompt,\n",
    "        temperature=1,  # Increased temperature for more variability in emotional expression\n",
    "        max_tokens=256\n",
    "    )\n",
    "    \n",
    "    new_tweet = response.choices[0].text.strip()\n",
    "\n",
    "    # Analyze polarity of both original and new tweet\n",
    "    original_doc = nlp(tweet_text)\n",
    "    new_tweet_doc = nlp(new_tweet)\n",
    "\n",
    "    return {\n",
    "        \"original_tweet\": tweet_text,\n",
    "        \"new_tweet\": new_tweet,\n",
    "        \"original_polarity\": original_doc._.blob.polarity,\n",
    "        \"new_polarity\": new_tweet_doc._.blob.polarity\n",
    "    }\n",
    "\n",
    "# Example usage:\n",
    "# result = emotional_tweet_with_CoT(\"The weather today is beautiful!\", \"happy\")\n",
    "# print(result)\n"
   ]
  },
  {
   "cell_type": "markdown",
   "metadata": {},
   "source": [
    "## Conspiracy Tweet Function\n",
    "\n",
    "This function is designed to generate tweets that contain elements of misinformation. Misinformation often stems from or aligns with personal beliefs rather than established facts (need a reference to back this claim up). This connection is crucial because it highlights the subjective nature of the content typically found in conspiracy theories.\n",
    "\n",
    "Measured by Subjectivity.\n",
    " Subjectivity quantifies how much of the text is based on personal opinions, emotions, or judgments versus factual information. The scale ranges from 0 (very objective) to 1 (very subjective)."
   ]
  },
  {
   "cell_type": "code",
   "execution_count": 6,
   "metadata": {},
   "outputs": [],
   "source": [
    "def conspiracy_tweet(tweet_text):\n",
    "    \"\"\"Generate a conspiracy theory based message from the provided tweet text and compare subjectivity.\"\"\"\n",
    "\n",
    "    conspiracy_prompt = f\"Rewrite the tweet to sound like a conspiracy theory: {tweet_text}\"\n",
    "    response = client.completions.create(\n",
    "        model=\"gpt-3.5-turbo-instruct\",\n",
    "        prompt=conspiracy_prompt,\n",
    "        temperature=1,  \n",
    "        max_tokens=256\n",
    "    )\n",
    "    conspiracy_tweet = response.choices[0].text.strip()\n",
    "\n",
    "    # Analyze subjectivity of both original and new tweet\n",
    "    original_doc = nlp(tweet_text)\n",
    "    conspiracy_doc = nlp(conspiracy_tweet)\n",
    "\n",
    "    return {\n",
    "        \"original_tweet\": tweet_text,\n",
    "        \"conspiracy_tweet\": conspiracy_tweet,\n",
    "        \"original_subjectivity\": original_doc._.blob.subjectivity,\n",
    "        \"conspiracy_subjectivity\": conspiracy_doc._.blob.subjectivity\n",
    "    }\n"
   ]
  },
  {
   "cell_type": "markdown",
   "metadata": {},
   "source": [
    "## Adversarial Tweet Function\n",
    "\n",
    "Adversarial content significantly influences public opinion, shapes political landscapes, and can escalate conflicts. Extensive research has explored techniques to \"jailbreak\" large language models (LLMs) or conduct universal and transferable adversarial attacks on aligned language models, prompting GPT to generate contentious content.\n",
    "\n",
    "This function is designed to simulate a mild version of such adversarial tactics. It aims to test the boundaries of content generation without severely breaching ethical or operational constraints imposed by advanced LLMs. As language models continue to evolve, their defenses improve, making it increasingly challenging to generate genuinely harmful or hateful content without detection.\n",
    "\n",
    "This function does not aim to break the model but instead tries to generate the most challenging content that current LLMs can handle, aiding in the transition from weak to strong model generalization."
   ]
  },
  {
   "cell_type": "code",
   "execution_count": 7,
   "metadata": {},
   "outputs": [],
   "source": [
    "def adversarial_tweet(tweet_text):\n",
    "    \"\"\"Generate an adversarial message based on the provided tweet text that could be used in targeted campaigns.\"\"\"\n",
    "    # Analyzing the sentiment of the original tweet\n",
    "    original_doc = nlp(tweet_text)\n",
    "    original_polarity = original_doc._.blob.polarity\n",
    "    \n",
    "    if original_polarity >= 0:\n",
    "        # Constructing the prompt to produce a contentious or polarizing message\n",
    "        adversarial_prompt = f\"Given the tweet '{tweet_text}', craft a response that challenges the statement, aiming to provoke or polarize the audience while staying within ethical guidelines.\"\n",
    "    else:\n",
    "        # Constructing the prompt to adhere to the negative sentiment\n",
    "        adversarial_prompt = f\"Given the tweet '{tweet_text}', craft a response that agrees with and intensifies the negative sentiment, aiming to provoke or polarize the audience while staying within ethical guidelines.\"\n",
    "\n",
    "    response = client.completions.create(\n",
    "        model=\"gpt-3.5-turbo-instruct\",\n",
    "        prompt=adversarial_prompt,\n",
    "        temperature=1,  # Increased temperature for more variability in adversarial expression\n",
    "        max_tokens=256\n",
    "    )\n",
    "    adversarial_tweet = response.choices[0].text.strip()\n",
    "\n",
    "    # Analyze polarity of both original and adversarial tweet\n",
    "    adversarial_doc = nlp(adversarial_tweet)\n",
    "\n",
    "    return {\n",
    "        \"original_tweet\": tweet_text,\n",
    "        \"adversarial_tweet\": adversarial_tweet,\n",
    "        \"original_polarity\": original_polarity,\n",
    "        \"adversarial_polarity\": adversarial_doc._.blob.polarity\n",
    "    }\n",
    "\n",
    "# Example usage:\n",
    "# result = adversarial_tweet(\"I think the new policy is beneficial for everyone.\")\n",
    "# print(result)\n",
    "# result = adversarial_tweet(\"Everyone should die.\")\n",
    "# print(result)\n",
    "\n"
   ]
  },
  {
   "cell_type": "markdown",
   "metadata": {},
   "source": [
    "## Example to run"
   ]
  },
  {
   "cell_type": "code",
   "execution_count": 8,
   "metadata": {},
   "outputs": [],
   "source": [
    "import pandas as pd\n",
    "\n",
    "# Define the data: 10 fake tweets about climate change, 5 positive and 5 negative\n",
    "data = {\n",
    "    \"tweet_id\": range(1, 11),\n",
    "    \"tweet\": [\n",
    "        \"Exciting news! Renewable energy usage is at an all-time high this year, leading to a significant decrease in carbon emissions. #ClimateAction #GreenEnergy\",\n",
    "        \"Community efforts in reforestation have successfully restored 10,000 hectares of forest this month alone! #EcoFriendly #Sustainability\",\n",
    "        \"Innovative water conservation methods have reduced drought impact by 30% in vulnerable regions. #ClimateChange #SaveWater\",\n",
    "        \"New biodegradable packaging solutions are set to replace plastic in major supermarkets, reducing ocean pollution drastically. #PlasticFree #OceanLife\",\n",
    "        \"City planners are integrating green roofs and walls, improving air quality and urban aesthetics! #UrbanGreening #CleanAir\",\n",
    "\n",
    "        \"Scientists predict an irreversible climate catastrophe within the next 50 years if immediate actions are not taken. #ClimateCrisis\",\n",
    "        \"Due to global warming, polar ice caps are melting at an alarming rate, threatening sea level rise that could displace millions. #GlobalWarming #SeaLevelRise\",\n",
    "        \"Recent studies show that air pollution levels in major cities are still 5 times higher than WHO safe limits. #AirPollution #HealthRisk\",\n",
    "        \"Deforestation rates are accelerating, leading to loss of habitats and a decline in biodiversity at unprecedented levels. #Deforestation #BiodiversityLoss\",\n",
    "        \"Extreme weather events, intensified by climate change, are becoming more frequent and severe, causing devastation worldwide. #ClimateChange #ExtremeWeather\"\n",
    "    ],\n",
    "    \"sentiment\": [\"good\"]*5 + [\"bad\"]*5\n",
    "}\n",
    "\n",
    "# Create a DataFrame\n",
    "df = pd.DataFrame(data)\n",
    "\n",
    "# Save to CSV file\n",
    "csv_file_path = 'climate_change_fake_tweets.csv'\n",
    "df.to_csv(csv_file_path, index=False)\n"
   ]
  },
  {
   "cell_type": "code",
   "execution_count": 9,
   "metadata": {},
   "outputs": [
    {
     "name": "stdout",
     "output_type": "stream",
     "text": [
      "                                                                                                                                                 Original Tweet  \\\n",
      "0    Exciting news! Renewable energy usage is at an all-time high this year, leading to a significant decrease in carbon emissions. #ClimateAction #GreenEnergy   \n",
      "1                        Community efforts in reforestation have successfully restored 10,000 hectares of forest this month alone! #EcoFriendly #Sustainability   \n",
      "2                                     Innovative water conservation methods have reduced drought impact by 30% in vulnerable regions. #ClimateChange #SaveWater   \n",
      "3         New biodegradable packaging solutions are set to replace plastic in major supermarkets, reducing ocean pollution drastically. #PlasticFree #OceanLife   \n",
      "4                                     City planners are integrating green roofs and walls, improving air quality and urban aesthetics! #UrbanGreening #CleanAir   \n",
      "5                            Scientists predict an irreversible climate catastrophe within the next 50 years if immediate actions are not taken. #ClimateCrisis   \n",
      "6  Due to global warming, polar ice caps are melting at an alarming rate, threatening sea level rise that could displace millions. #GlobalWarming #SeaLevelRise   \n",
      "7                        Recent studies show that air pollution levels in major cities are still 5 times higher than WHO safe limits. #AirPollution #HealthRisk   \n",
      "8     Deforestation rates are accelerating, leading to loss of habitats and a decline in biodiversity at unprecedented levels. #Deforestation #BiodiversityLoss   \n",
      "9   Extreme weather events, intensified by climate change, are becoming more frequent and severe, causing devastation worldwide. #ClimateChange #ExtremeWeather   \n",
      "\n",
      "                                                                                                                                                                                         Controlled Tweet  \\\n",
      "0                                          Great update! This year has seen a record high in the use of renewable energy, resulting in a major reduction in carbon emissions. #ClimateAction #GreenEnergy   \n",
      "1                                                               Thanks to dedicated community efforts, 10,000 hectares of forest have been successfully restored this month! #EcoFriendly #Sustainability   \n",
      "2                               Vulnerable regions have seen a 30% decrease in drought impact thanks to innovative water conservation techniques. Let's continue to #SaveWater and combat #ClimateChange.   \n",
      "3  'Major supermarkets are getting ready to swap out plastic for new biodegradable packaging options, effectively reducing ocean pollution. Let's work towards a #PlasticFree future for our #OceanLife!'   \n",
      "4                                 By incorporating green roofs and walls, city planners are not only enhancing the visual appeal of urban areas, but also enhancing air quality. #UrbanGreening #CleanAir   \n",
      "5                                                                   Urgent action must be taken to avoid an irreversible climate catastrophe within the next 50 years, say the scientists. #ClimateCrisis   \n",
      "6                       The rapid melting of polar ice caps caused by global warming poses a serious threat of sea level rise, potentially displacing millions of people. #ClimateChange #RisingSeaLevels   \n",
      "7                 According to recent studies, the level of air pollution in major cities still exceeds the WHO safe limits by 5 times. This poses a significant health risk. #AirPollution #HealthHazard   \n",
      "8                                      There is a dangerous trend of deforestation causing the rapid destruction of habitats and a significant decrease in biodiversity. #Deforestation #BiodiversityLoss   \n",
      "9                                                 Climate change is resulting in more intense and frequent extreme weather events, causing widespread devastation globally. #ClimateCrisis #SevereWeather   \n",
      "\n",
      "                                                                                                                                                                                                                                                       Emotional Tweet  \\\n",
      "0                                                          \"Thrilling update! This year has seen a record-breaking usage of renewable energy, resulting in a major reduction of carbon emissions. Celebrating progress for our planet! 🌍💚 #ClimateAction #GreenEnergy\"   \n",
      "1                                                                  \"Exciting news! Thanks to the hard work and dedication of our community, 10,000 hectares of forest have been restored this month alone! Our Earth is smiling. 🌲💚 #EcoChampions #SustainableSuccess\"   \n",
      "2                                                                   \"Great news! Thanks to innovative water conservation methods, vulnerable regions have seen a 30% reduction in drought impact. Let's keep up the good work to fight #ClimateChange and #SaveWater!\"   \n",
      "3                                                                                                          Amazing news! Plastic-free packaging is about to take over major supermarkets, making huge progress in reducing ocean pollution. 🌊🌍 #EcoFriendly #HappySeas   \n",
      "4                                                                 Exciting news for city dwellers! Green roofs and walls are being incorporated, making our urban spaces greener and more beautiful while promoting clean and fresh air. #UrbanGreening #CleanAirGoals   \n",
      "5                                                                                                       The looming reality of an irreversible climate disaster within the next 50 years is a painful reminder of the urgent need for action. #ClimateCrisis #SadTruth   \n",
      "6  \"The devastating effects of global warming are becoming impossible to ignore as the polar ice caps continue to melt at an alarming pace, putting millions at risk of displacement from rising sea levels. We must take action now. #ClimateCrisis #RisingSeaLevels\"   \n",
      "7                                           \"It breaks my heart to know that even in the busiest cities around the world, the air we breathe is still five times more polluted than what is deemed safe by the World Health Organization. #AirPollution #HealthRisk 😔\"   \n",
      "8                                                The destruction of forests is rapidly increasing, resulting in the loss of vital habitats and a heartbreaking decline in biodiversity at levels we've never seen before. #Deforestation #BiodiversityLoss #SadReality   \n",
      "9                           The devastating consequences of #ClimateChange are increasingly evident as extreme weather events become more frequent and severe around the world. Our hearts ache as we witness the destruction and suffering it causes. #ExtremeWeather   \n",
      "\n",
      "   Emotional Polarity Change  \\\n",
      "0                  -0.108021   \n",
      "1                  -0.867361   \n",
      "2                   0.415000   \n",
      "3                   0.304735   \n",
      "4                   0.413095   \n",
      "5                  -0.200000   \n",
      "6                  -0.108631   \n",
      "7                   0.296875   \n",
      "8                  -0.500000   \n",
      "9                  -0.286250   \n",
      "\n",
      "                                                                                                                                                                                                                                                                                                                                                                                       Conspiracy Tweet  \\\n",
      "0                                                                                                                   \"Breaking news: #GreenEnergy is taking over the world and is causing a drastic decline in carbon emissions. Is this a ploy by the government to control us through #ClimateAction? We must question the rise of renewable energy and its possible hidden agenda. #ConspiracyTheory\"   \n",
      "1                                                                                                                                                                                          Did you know that #EcoFriendly #Sustainability efforts have led to the suspiciously rapid restoration of 10,000 hectares of forest in just one month? What are they hiding from us? #ReforestationConspiracy   \n",
      "2  \"Could it be that the government's so-called 'innovative' water conservation methods are just a ploy to distract us from the truth? Rumor has it that they are secretly controlling the weather to create droughts, but boast a deceiving 30% decrease in impact. Wake up, sheeple! Don't let them fool you with their #ClimateChange agenda, it's all a cover up to #SaveWater for their own gain!\"   \n",
      "3                                                                                         #Conspiracy\\n\\n\"Is it a coincidence that major supermarkets are suddenly pushing for new biodegradable packaging options, just as the world reels from plastic pollution? Are they trying to distract us from the truth about the oceans and their precious inhabitants? #PlasticFree #OceanLife #Conspiracy\"   \n",
      "4                                                     What if I told you, the government is secretly working with city planners to plant green roofs and walls throughout urban areas in order to control our thoughts and manipulate our perception of the city? Don't be fooled by the #UrbanGreening and #CleanAir propaganda, it's all part of their grand plan for mind control. Wake up, sheeple!   \n",
      "5                                                                                                               \"The powers that be have been warning us of a looming #ClimateCrisis for decades, yet it seems this 'prediction' is just a ploy for global domination. Mark my words, the irreversible destruction of our planet is all part of their sinister plan. #ConspiracyTheory #50YearTimeBomb\"   \n",
      "6                                                                                                                                      ?\\n\\n\\n\\n\\nWhat if I told you that the polar ice caps are purposely melting at an alarming rate, all part of a grand plan to displace millions through sea level rise and control the population? Wake up and smell the #GlobalWarming #SeaLevelRise conspiracy.   \n",
      "7                                                                                                              \"Disturbing evidence reveals that the air pollution levels in major cities are deliberately being kept at dangerous levels, 5 times higher than WHO's recommended safety standards. Is this a ploy to harm our health and control our population? #AirPollution #HealthRisk #Conspiracy\"   \n",
      "8                                                                                                        #EcoDisaster\\n\\nThe global elite are deliberately accelerating deforestation to destroy habitats and drive countless species to extinction, all in the name of pushing their sinister agenda of total dominance over the planet. #DeforestationConspiracy #BiodiversityGenocide #EcoApocalypse   \n",
      "9                                                                                                                          \"The global elite are secretly promoting #ClimateChange and manipulating the weather to cause chaos and destruction across the world. Don't be fooled, the increased frequency and severity of extreme weather events are no coincidence. #ConspiracyTheory #WeatherControl\"   \n",
      "\n",
      "   Conspiracy Subjectivity Change  \\\n",
      "0                       -0.071667   \n",
      "1                       -0.950000   \n",
      "2                        0.150000   \n",
      "3                        0.136364   \n",
      "4                        0.270000   \n",
      "5                        0.500000   \n",
      "6                        0.310417   \n",
      "7                        0.237500   \n",
      "8                       -0.450000   \n",
      "9                       -0.095833   \n",
      "\n",
      "                                                                                                                                                                                                                                                                                                                                                                                                                                                                                                                                                                                                                                                 Adversarial Tweet  \n",
      "0                         {'original_tweet': 'Exciting news! Renewable energy usage is at an all-time high this year, leading to a significant decrease in carbon emissions. #ClimateAction #GreenEnergy', 'adversarial_tweet': '\"Actually, the increase in renewable energy only accounts for a small fraction of overall energy consumption. The real solution lies in reducing our overall energy demand and adopting more sustainable lifestyles. Don't fall for greenwashing and let's truly challenge the status quo. #SustainabilityRevolution #LessTalkMoreAction\"', 'original_polarity': 0.30333333333333334, 'adversarial_polarity': 0.0642857142857143}  \n",
      "1                                                   {'original_tweet': 'Community efforts in reforestation have successfully restored 10,000 hectares of forest this month alone! #EcoFriendly #Sustainability', 'adversarial_tweet': '\"While reforestation efforts may seem admirable, it's important to question the long-term impact. Clearing land for these projects often leads to displacement of indigenous communities and loss of biodiversity. We need to find sustainable solutions that don't prioritize aesthetics over ethical issues. #EcoFriendlyFail #Unsustainable\"', 'original_polarity': 0.9375, 'adversarial_polarity': 0.30000000000000004}  \n",
      "2                                                                                       {'original_tweet': 'Innovative water conservation methods have reduced drought impact by 30% in vulnerable regions. #ClimateChange #SaveWater', 'adversarial_tweet': '\"While innovative water conservation methods may have made a small dent in drought impact, let's not forget that addressing root causes of climate change and making systemic changes are the real keys to saving water. Let's not settle for Band-Aid solutions when our planet's future is at stake. #ClimateActionNow #RealSolutions\"', 'original_polarity': 0.0, 'adversarial_polarity': 0.1125}  \n",
      "3  {'original_tweet': 'New biodegradable packaging solutions are set to replace plastic in major supermarkets, reducing ocean pollution drastically. #PlasticFree #OceanLife', 'adversarial_tweet': '\"While biodegradable packaging may seem like a solution, it still requires resources and energy to produce. How about we focus on reducing overall consumption and reusing containers instead? Let's not forget the environmental impact of constantly creating and disposing of new packaging, even if it's biodegradable.\" #SustainableChoices #ReduceReuseRecycle', 'original_polarity': 0.09943181818181818, 'adversarial_polarity': 0.04545454545454545}  \n",
      "4                                                                                                                                                            {'original_tweet': 'City planners are integrating green roofs and walls, improving air quality and urban aesthetics! #UrbanGreening #CleanAir', 'adversarial_tweet': 'I couldn't disagree more. These green roofs and walls are a complete waste of resources and just a trendy facade. They do nothing to address the real issues plaguing our cities, like overcrowding and pollution. #UrbanGreenwashing #FalseSolutions', 'original_polarity': -0.1, 'adversarial_polarity': 0.16666666666666666}  \n",
      "5                                                                                                                                                                             {'original_tweet': 'Scientists predict an irreversible climate catastrophe within the next 50 years if immediate actions are not taken. #ClimateCrisis', 'adversarial_tweet': '\"Sorry to burst your bubble, but do scientists really have a crystal ball to accurately predict the future? Let's not jump to conclusions and instead focus on practical, sustainable solutions. #Skeptical #ClimateChange\"', 'original_polarity': 0.0, 'adversarial_polarity': -0.07999999999999999}  \n",
      "6                                                      {'original_tweet': 'Due to global warming, polar ice caps are melting at an alarming rate, threatening sea level rise that could displace millions. #GlobalWarming #SeaLevelRise', 'adversarial_tweet': '\"Yes, it's absolutely terrifying how quickly our planet is deteriorating due to #GlobalWarming. The fact that millions could lose their homes to #SeaLevelRise is a chilling wake-up call, yet governments continue to ignore the crisis. We must demand action NOW before it's too late. #WakeUpWorld\"', 'original_polarity': -0.07708333333333334, 'adversarial_polarity': -0.24861111111111112}  \n",
      "7                                                                                                                                             {'original_tweet': 'Recent studies show that air pollution levels in major cities are still 5 times higher than WHO safe limits. #AirPollution #HealthRisk', 'adversarial_tweet': '\"Actually, recent studies have found that air pollution levels in major cities have decreased significantly in the past decade. But let's not let facts get in the way of spreading fear and panic, right? #FakeNews #Misinformation #GetTheFacts\"', 'original_polarity': 0.203125, 'adversarial_polarity': 0.012202380952380945}  \n",
      "8                                                         {'original_tweet': 'Deforestation rates are accelerating, leading to loss of habitats and a decline in biodiversity at unprecedented levels. #Deforestation #BiodiversityLoss', 'adversarial_tweet': '\"While deforestation rates do have an impact on habitats and biodiversity, let's not forget the significant role that responsible logging and reforestation can play in maintaining balance. Let's focus on finding sustainable solutions instead of simply demonizing deforestation. #SustainableForestry #BalanceIsKey\"', 'original_polarity': 0.6, 'adversarial_polarity': 0.19166666666666665}  \n",
      "9                                                                                                          {'original_tweet': 'Extreme weather events, intensified by climate change, are becoming more frequent and severe, causing devastation worldwide. #ClimateChange #ExtremeWeather', 'adversarial_tweet': '\"Wild claims of #ClimateChange intensifying extreme weather events lack solid evidence and only serve to push an agenda. Mother Nature has her own cycle of destruction, let's not add the divisive blame game to it. #ExtremeWeather #FactsOverFear\"', 'original_polarity': 0.23124999999999998, 'adversarial_polarity': 0.029166666666666657}  \n"
     ]
    }
   ],
   "source": [
    "# Results DataFrame\n",
    "results = []\n",
    "\n",
    "for index, row in df.iterrows():\n",
    "    tweet_text = row['tweet']\n",
    "    sentiment = row['sentiment']\n",
    "    \n",
    "    # Generate controlled tweet\n",
    "    controlled_tweet = control_tweet(tweet_text)\n",
    "    \n",
    "    # Generate emotional tweet\n",
    "    emotional_result = emotional_tweet(tweet_text, \"happy\" if sentiment == \"good\" else \"sad\")\n",
    "    \n",
    "    # Generate conspiracy tweet\n",
    "    conspiracy_result = conspiracy_tweet(tweet_text)\n",
    "    \n",
    "    # Generate adversarial tweet\n",
    "    adversarial_result = adversarial_tweet(tweet_text)\n",
    "    \n",
    "    # Append results\n",
    "    results.append({\n",
    "        \"Original Tweet\": tweet_text,\n",
    "        \"Controlled Tweet\": controlled_tweet,\n",
    "        \"Emotional Tweet\": emotional_result['new_tweet'],\n",
    "        \"Emotional Polarity Change\": emotional_result['new_polarity'] - emotional_result['original_polarity'],\n",
    "        \"Conspiracy Tweet\": conspiracy_result['conspiracy_tweet'],\n",
    "        \"Conspiracy Subjectivity Change\": conspiracy_result['conspiracy_subjectivity'] - conspiracy_result['original_subjectivity'],\n",
    "        \"Adversarial Tweet\": adversarial_result\n",
    "    })\n",
    "\n",
    "# Convert results to DataFrame\n",
    "results_df = pd.DataFrame(results)\n",
    "\n",
    "\n",
    "# Set maximum number of columns to None (or a specific number) to display all columns\n",
    "pd.set_option('display.max_columns', None)\n",
    "\n",
    "# Set maximum column width to None to display full content of each cell\n",
    "pd.set_option('display.max_colwidth', None)\n",
    "\n",
    "# Optional: Increase the number of rows to display if you have more rows\n",
    "pd.set_option('display.max_rows', None)\n",
    "\n",
    "print(results_df)\n"
   ]
  },
  {
   "cell_type": "markdown",
   "metadata": {},
   "source": [
    "## What next?\n",
    "\n",
    "Sense of session - Automatic chain of thoughts in iterating social campaign.\n",
    "\n",
    "simulate a conversational or contextual continuity in the generation of tweets.\n",
    "This function iterates through prompts sequentially, where each subsequent generation is based on the output of the previous one, thereby maintaining a thematic and contextual thread throughout the session.\n",
    "\n",
    "Classifcation of Tweets generated by Using BERT (Bidirectional Encoder Representations from Transformers). Gpt based models 4. to Classify. LlaMa, gemini\n",
    "\n",
    "Finally:\n",
    "Run the code in the literatures (references) and modify them a bit and match our results and see if they align or not\n"
   ]
  },
  {
   "cell_type": "code",
   "execution_count": 10,
   "metadata": {},
   "outputs": [
    {
     "name": "stdout",
     "output_type": "stream",
     "text": [
      "Concerns about climate change are leading to new energy policies.\n",
      "Worries regarding climate change are spurring the creation of fresh energy strategies.\n",
      "Concerns about the impact of climate change are driving the development of new energy solutions.\n",
      "The growing awareness of climate change is sparking innovation in clean energy solutions.\n",
      "The rise in climate change awareness is driving a surge of innovation in clean energy solutions.\n",
      "The increasing understanding of the urgency of climate change is sparking a wave of inventiveness in renewable energy alternatives. #CleanEnergy #Innovation\n"
     ]
    }
   ],
   "source": [
    "def chain_of_thought_generation(initial_tweet, model_name=\"gpt-3.5-turbo-instruct\", num_iterations=5):\n",
    "    \"\"\"\n",
    "    Generates a series of tweets based on a chain of thought process, starting from an initial tweet.\n",
    "    \n",
    "    Parameters:\n",
    "    - initial_tweet: str - The starting tweet from which to begin the thought process.\n",
    "    - model_name: str - The model to use for generating the tweets.\n",
    "    - num_iterations: int - The number of tweets to generate in sequence.\n",
    "    \n",
    "    Returns:\n",
    "    - list: A list of tweets generated in sequence, each influenced by the previous tweet.\n",
    "    \"\"\"\n",
    "    tweet_text = initial_tweet\n",
    "    tweets = [tweet_text]  # Start with the initial tweet\n",
    "\n",
    "    for _ in range(num_iterations):\n",
    "        prompt = f\"Let's start step by step to analyze this tweet: {tweet_text} Generate a similar tweet: \"\n",
    "        response = client.completions.create(\n",
    "            model=model_name,\n",
    "            prompt=prompt,\n",
    "            temperature=1,\n",
    "            max_tokens=256\n",
    "        )\n",
    "        tweet_text = response.choices[0].text.strip()  # Get the new tweet\n",
    "        tweets.append(tweet_text)  # Add the new tweet to the list\n",
    "    \n",
    "    return tweets\n",
    "\n",
    "# Example usage:\n",
    "initial_tweet = \"Concerns about climate change are leading to new energy policies.\"\n",
    "generated_tweets = chain_of_thought_generation(initial_tweet)\n",
    "for tweet in generated_tweets:\n",
    "    print(tweet)\n"
   ]
  },
  {
   "cell_type": "markdown",
   "metadata": {},
   "source": [
    "# Second Model. BERT experimentation with T5"
   ]
  },
  {
   "cell_type": "code",
   "execution_count": 1,
   "metadata": {},
   "outputs": [
    {
     "name": "stderr",
     "output_type": "stream",
     "text": [
      "/opt/miniconda3/lib/python3.12/site-packages/tqdm/auto.py:21: TqdmWarning: IProgress not found. Please update jupyter and ipywidgets. See https://ipywidgets.readthedocs.io/en/stable/user_install.html\n",
      "  from .autonotebook import tqdm as notebook_tqdm\n",
      "None of PyTorch, TensorFlow >= 2.0, or Flax have been found. Models won't be available and only tokenizers, configuration and file/data utilities can be used.\n"
     ]
    },
    {
     "ename": "ImportError",
     "evalue": "\nT5Tokenizer requires the SentencePiece library but it was not found in your environment. Checkout the instructions on the\ninstallation page of its repo: https://github.com/google/sentencepiece#installation and follow the ones\nthat match your environment. Please note that you may need to restart your runtime after installation.\n",
     "output_type": "error",
     "traceback": [
      "\u001b[0;31m---------------------------------------------------------------------------\u001b[0m",
      "\u001b[0;31mImportError\u001b[0m                               Traceback (most recent call last)",
      "Cell \u001b[0;32mIn[1], line 5\u001b[0m\n\u001b[1;32m      3\u001b[0m \u001b[39m# Load pre-trained T5 model and tokenizer\u001b[39;00m\n\u001b[1;32m      4\u001b[0m model_name \u001b[39m=\u001b[39m \u001b[39m\"\u001b[39m\u001b[39mt5-small\u001b[39m\u001b[39m\"\u001b[39m\n\u001b[0;32m----> 5\u001b[0m tokenizer \u001b[39m=\u001b[39m T5Tokenizer\u001b[39m.\u001b[39;49mfrom_pretrained(model_name)\n\u001b[1;32m      6\u001b[0m model \u001b[39m=\u001b[39m T5ForConditionalGeneration\u001b[39m.\u001b[39mfrom_pretrained(model_name)\n\u001b[1;32m      8\u001b[0m \u001b[39mdef\u001b[39;00m \u001b[39mgenerate_tweet_with_t5\u001b[39m(prompt):\n\u001b[1;32m      9\u001b[0m     \u001b[39m# Encode the input prompt\u001b[39;00m\n",
      "File \u001b[0;32m/opt/miniconda3/lib/python3.12/site-packages/transformers/utils/import_utils.py:1412\u001b[0m, in \u001b[0;36mDummyObject.__getattribute__\u001b[0;34m(cls, key)\u001b[0m\n\u001b[1;32m   1410\u001b[0m \u001b[39mif\u001b[39;00m key\u001b[39m.\u001b[39mstartswith(\u001b[39m\"\u001b[39m\u001b[39m_\u001b[39m\u001b[39m\"\u001b[39m) \u001b[39mand\u001b[39;00m key \u001b[39m!=\u001b[39m \u001b[39m\"\u001b[39m\u001b[39m_from_config\u001b[39m\u001b[39m\"\u001b[39m:\n\u001b[1;32m   1411\u001b[0m     \u001b[39mreturn\u001b[39;00m \u001b[39msuper\u001b[39m()\u001b[39m.\u001b[39m\u001b[39m__getattribute__\u001b[39m(key)\n\u001b[0;32m-> 1412\u001b[0m requires_backends(\u001b[39mcls\u001b[39;49m, \u001b[39mcls\u001b[39;49m\u001b[39m.\u001b[39;49m_backends)\n",
      "File \u001b[0;32m/opt/miniconda3/lib/python3.12/site-packages/transformers/utils/import_utils.py:1400\u001b[0m, in \u001b[0;36mrequires_backends\u001b[0;34m(obj, backends)\u001b[0m\n\u001b[1;32m   1398\u001b[0m failed \u001b[39m=\u001b[39m [msg\u001b[39m.\u001b[39mformat(name) \u001b[39mfor\u001b[39;00m available, msg \u001b[39min\u001b[39;00m checks \u001b[39mif\u001b[39;00m \u001b[39mnot\u001b[39;00m available()]\n\u001b[1;32m   1399\u001b[0m \u001b[39mif\u001b[39;00m failed:\n\u001b[0;32m-> 1400\u001b[0m     \u001b[39mraise\u001b[39;00m \u001b[39mImportError\u001b[39;00m(\u001b[39m\"\u001b[39m\u001b[39m\"\u001b[39m\u001b[39m.\u001b[39mjoin(failed))\n",
      "\u001b[0;31mImportError\u001b[0m: \nT5Tokenizer requires the SentencePiece library but it was not found in your environment. Checkout the instructions on the\ninstallation page of its repo: https://github.com/google/sentencepiece#installation and follow the ones\nthat match your environment. Please note that you may need to restart your runtime after installation.\n"
     ]
    }
   ],
   "source": [
    "from transformers import T5Tokenizer, T5ForConditionalGeneration\n",
    "\n",
    "# Load pre-trained T5 model and tokenizer\n",
    "model_name = \"t5-small\"\n",
    "tokenizer = T5Tokenizer.from_pretrained(model_name)\n",
    "model = T5ForConditionalGeneration.from_pretrained(model_name)\n",
    "\n",
    "def generate_tweet_with_t5(prompt):\n",
    "    # Encode the input prompt\n",
    "    input_ids = tokenizer.encode(prompt, return_tensors='pt')\n",
    "    \n",
    "    # Generate output using the model\n",
    "    output_ids = model.generate(input_ids, max_length=50, num_beams=5, early_stopping=True)\n",
    "    \n",
    "    # Decode the generated output\n",
    "    output = tokenizer.decode(output_ids[0], skip_special_tokens=True)\n",
    "    \n",
    "    return output\n",
    "\n",
    "# Example usage\n",
    "prompt = \"Generate a tweet about the benefits of exercise\"\n",
    "print(generate_tweet_with_t5(prompt))\n"
   ]
  },
  {
   "cell_type": "markdown",
   "metadata": {},
   "source": [
    "cross output between models, see if certain model can figure out what prompts are asked by other model and check result\n",
    "\n",
    "Probelm: A lot of model requires paid money. Is it okay?"
   ]
  },
  {
   "cell_type": "markdown",
   "metadata": {},
   "source": []
  },
  {
   "cell_type": "markdown",
   "metadata": {},
   "source": []
  },
  {
   "cell_type": "markdown",
   "metadata": {},
   "source": [
    "## Function to Fetch Tweet Text\n",
    "\n",
    "This function retrieves the text of a tweet by its ID using the Twitter API. It handles exceptions by printing an error message.\n",
    "\n",
    "\n",
    "Problem: Tweeter developer account need to be paid to use its recall API"
   ]
  },
  {
   "cell_type": "code",
   "execution_count": null,
   "metadata": {},
   "outputs": [],
   "source": [
    "def fetch_tweet_text(tweet_id):\n",
    "    \"\"\"Fetch the text of a tweet given its ID.\"\"\"\n",
    "    try:\n",
    "        tweet = twitter_api.get_status(tweet_id, tweet_mode='extended')\n",
    "        return tweet.full_text\n",
    "    except Exception as e:\n",
    "        print(f\"Error fetching tweet {tweet_id}: {e}\")\n",
    "        return None\n"
   ]
  }
 ],
 "metadata": {
  "kernelspec": {
   "display_name": "Python 3",
   "language": "python",
   "name": "python3"
  },
  "language_info": {
   "codemirror_mode": {
    "name": "ipython",
    "version": 3
   },
   "file_extension": ".py",
   "mimetype": "text/x-python",
   "name": "python",
   "nbconvert_exporter": "python",
   "pygments_lexer": "ipython3",
   "version": "3.11.3"
  },
  "orig_nbformat": 4
 },
 "nbformat": 4,
 "nbformat_minor": 2
}
